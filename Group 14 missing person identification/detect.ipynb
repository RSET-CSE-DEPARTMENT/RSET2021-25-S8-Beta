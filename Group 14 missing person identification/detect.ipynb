{
 "cells": [
  {
   "cell_type": "code",
   "execution_count": null,
   "metadata": {},
   "outputs": [],
   "source": [
    "import cv2\n",
    "import torch\n",
    "import numpy as np\n",
    "from deepface import DeepFace\n",
    "from ultralytics import YOLO\n",
    "\n",
    "\n",
    "yolo_model = YOLO(\"yolov8n-face.pt\")  \n",
    "\n",
    "def detect_faces(image):\n",
    "    \"\"\"Detect faces using YOLOv8 and return cropped face images.\"\"\"\n",
    "    results = yolo_model(image)\n",
    "    faces = []\n",
    "    \n",
    "    for result in results:\n",
    "        boxes = result.boxes.xyxy.cpu().numpy()  # Get bounding boxes\n",
    "        for box in boxes:\n",
    "            x1, y1, x2, y2 = map(int, box)\n",
    "            face = image[y1:y2, x1:x2]\n",
    "            faces.append(face)\n",
    "    \n",
    "    return faces\n",
    "\n",
    "def extract_face_embedding(face):\n",
    "    \"\"\"Extract 128D face embeddings using DeepFace (Facenet).\"\"\"\n",
    "    embedding = DeepFace.represent(face, model_name=\"Facenet\", enforce_detection=False)\n",
    "    return embedding[0]['embedding'] if embedding else None\n",
    "\n",
    "def compare_faces(reference_embedding, test_embedding, threshold=0.6):\n",
    "    \"\"\"Compare two face embeddings using cosine similarity.\"\"\"\n",
    "    if reference_embedding is None or test_embedding is None:\n",
    "        return False  # Cannot compare if embedding extraction failed\n",
    "    similarity = np.dot(reference_embedding, test_embedding) / (np.linalg.norm(reference_embedding) * np.linalg.norm(test_embedding))\n",
    "    return similarity > threshold  # True if similarity is above threshold\n",
    "\n",
    "def process_video(video_path, reference_embedding):\n",
    "    \"\"\"Process video and check if the person is detected in any frame.\"\"\"\n",
    "    cap = cv2.VideoCapture(video_path)\n",
    "    detected = False\n",
    "    frame_count = 0\n",
    "    \n",
    "    while cap.isOpened():\n",
    "        ret, frame = cap.read()\n",
    "        if not ret:\n",
    "            break\n",
    "        \n",
    "        frame_count += 1\n",
    "        if frame_count % 10 != 0:  # Process every 10th frame for efficiency\n",
    "            continue\n",
    "        \n",
    "        faces = detect_faces(frame)\n",
    "        for face in faces:\n",
    "            embedding = extract_face_embedding(face)\n",
    "            if compare_faces(reference_embedding, embedding):\n",
    "                detected = True\n",
    "                break  # Stop checking further frames if found\n",
    "        \n",
    "        if detected:\n",
    "            break  # Stop processing video if detected\n",
    "    \n",
    "    cap.release()\n",
    "    return detected\n"
   ]
  },
  {
   "cell_type": "code",
   "execution_count": 2,
   "metadata": {},
   "outputs": [
    {
     "ename": "FileNotFoundError",
     "evalue": "[Errno 2] No such file or directory: '1.jpg'",
     "output_type": "error",
     "traceback": [
      "\u001b[1;31m---------------------------------------------------------------------------\u001b[0m",
      "\u001b[1;31mFileNotFoundError\u001b[0m                         Traceback (most recent call last)",
      "Cell \u001b[1;32mIn[2], line 2\u001b[0m\n\u001b[0;32m      1\u001b[0m \u001b[38;5;66;03m# Upload an image of the person (Reference Image)\u001b[39;00m\n\u001b[1;32m----> 2\u001b[0m reference_image \u001b[38;5;241m=\u001b[39m \u001b[43mcv2\u001b[49m\u001b[38;5;241;43m.\u001b[39;49m\u001b[43mimread\u001b[49m\u001b[43m(\u001b[49m\u001b[38;5;124;43m\"\u001b[39;49m\u001b[38;5;124;43m1.jpg\u001b[39;49m\u001b[38;5;124;43m\"\u001b[39;49m\u001b[43m)\u001b[49m  \u001b[38;5;66;03m# Provide reference image path\u001b[39;00m\n\u001b[0;32m      3\u001b[0m reference_faces \u001b[38;5;241m=\u001b[39m detect_faces(reference_image)\n\u001b[0;32m      4\u001b[0m reference_embedding \u001b[38;5;241m=\u001b[39m extract_face_embedding(reference_faces[\u001b[38;5;241m0\u001b[39m]) \u001b[38;5;28;01mif\u001b[39;00m reference_faces \u001b[38;5;28;01melse\u001b[39;00m \u001b[38;5;28;01mNone\u001b[39;00m\n",
      "File \u001b[1;32mc:\\Users\\test\\anaconda3\\envs\\qualityenv\\lib\\site-packages\\ultralytics\\utils\\patches.py:26\u001b[0m, in \u001b[0;36mimread\u001b[1;34m(filename, flags)\u001b[0m\n\u001b[0;32m     15\u001b[0m \u001b[38;5;28;01mdef\u001b[39;00m \u001b[38;5;21mimread\u001b[39m(filename: \u001b[38;5;28mstr\u001b[39m, flags: \u001b[38;5;28mint\u001b[39m \u001b[38;5;241m=\u001b[39m cv2\u001b[38;5;241m.\u001b[39mIMREAD_COLOR):\n\u001b[0;32m     16\u001b[0m \u001b[38;5;250m    \u001b[39m\u001b[38;5;124;03m\"\"\"\u001b[39;00m\n\u001b[0;32m     17\u001b[0m \u001b[38;5;124;03m    Read an image from a file.\u001b[39;00m\n\u001b[0;32m     18\u001b[0m \n\u001b[1;32m   (...)\u001b[0m\n\u001b[0;32m     24\u001b[0m \u001b[38;5;124;03m        (np.ndarray): The read image.\u001b[39;00m\n\u001b[0;32m     25\u001b[0m \u001b[38;5;124;03m    \"\"\"\u001b[39;00m\n\u001b[1;32m---> 26\u001b[0m     \u001b[38;5;28;01mreturn\u001b[39;00m cv2\u001b[38;5;241m.\u001b[39mimdecode(\u001b[43mnp\u001b[49m\u001b[38;5;241;43m.\u001b[39;49m\u001b[43mfromfile\u001b[49m\u001b[43m(\u001b[49m\u001b[43mfilename\u001b[49m\u001b[43m,\u001b[49m\u001b[43m \u001b[49m\u001b[43mnp\u001b[49m\u001b[38;5;241;43m.\u001b[39;49m\u001b[43muint8\u001b[49m\u001b[43m)\u001b[49m, flags)\n",
      "\u001b[1;31mFileNotFoundError\u001b[0m: [Errno 2] No such file or directory: '1.jpg'"
     ]
    }
   ],
   "source": [
    "\n",
    "# Upload an image of the person (Reference Image)\n",
    "reference_image = cv2.imread(\"1.jpg\")  # Provide reference image path\n",
    "reference_faces = detect_faces(reference_image)\n",
    "reference_embedding = extract_face_embedding(reference_faces[0]) if reference_faces else None\n",
    "\n",
    "# Upload a video (CCTV footage)\n",
    "video_path = \"test_.mp4\"  # Provide video file path\n",
    "if reference_embedding:\n",
    "    is_present = process_video(video_path, reference_embedding)\n",
    "    print(\"Student Detected in CCTV Footage!\" if is_present else \"Student Not Found!\")\n",
    "else:\n",
    "    print(\"Error: No face detected in the reference image.\")\n"
   ]
  },
  {
   "cell_type": "code",
   "execution_count": null,
   "metadata": {},
   "outputs": [],
   "source": []
  }
 ],
 "metadata": {
  "kernelspec": {
   "display_name": "qualityenv",
   "language": "python",
   "name": "python3"
  },
  "language_info": {
   "codemirror_mode": {
    "name": "ipython",
    "version": 3
   },
   "file_extension": ".py",
   "mimetype": "text/x-python",
   "name": "python",
   "nbconvert_exporter": "python",
   "pygments_lexer": "ipython3",
   "version": "3.8.19"
  }
 },
 "nbformat": 4,
 "nbformat_minor": 2
}
