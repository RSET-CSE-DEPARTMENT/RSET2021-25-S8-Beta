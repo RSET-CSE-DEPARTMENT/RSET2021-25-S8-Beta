{
 "cells": [
  {
   "cell_type": "code",
   "execution_count": 6,
   "metadata": {},
   "outputs": [],
   "source": [
    "import pandas as pd\n",
    "import numpy as np\n",
    "import math\n",
    "from datetime import datetime, timedelta"
   ]
  },
  {
   "cell_type": "code",
   "execution_count": 7,
   "metadata": {},
   "outputs": [],
   "source": [
    "schedule_paths = [\n",
    "    'collected_schedules/best_schedule_bus600_gen1.csv',\n",
    "    'collected_schedules/best_schedule_bus600_gen2.csv',\n",
    "    'collected_schedules/best_schedule_bus600_gen3.csv',\n",
    "    'collected_schedules/best_schedule_bus600_gen4.csv',\n",
    "    'collected_schedules/best_schedule_bus600_gen5.csv',\n",
    "    'collected_schedules/best_schedule_bus600_gen6.csv',\n",
    "    'collected_schedules/best_schedule_bus600_gen7.csv',\n",
    "    'collected_schedules/best_schedule_bus600_gen8.csv',\n",
    "    'collected_schedules/best_schedule_bus600_gen9.csv',\n",
    "    'collected_schedules/best_schedule_bus600_gen10.csv',\n",
    "    'collected_schedules/best_schedule_bus600_gen11.csv',\n",
    "    'collected_schedules/best_schedule_bus600_gen12.csv',\n",
    "    'collected_schedules/best_schedule_bus600_gen13.csv',\n",
    "    'collected_schedules/best_schedule_bus600_gen14.csv',\n",
    "    'collected_schedules/best_schedule_bus600_gen15.csv',\n",
    "]\n",
    "\n",
    "schedule1 = pd.read_csv(schedule_paths[0]).rename(columns={'Bus': 'bus', 'Trip ID': 'trip_id'})\n",
    "schedule2 = pd.read_csv(schedule_paths[1]).rename(columns={'Bus': 'bus', 'Trip ID': 'trip_id'})\n",
    "schedule3 = pd.read_csv(schedule_paths[2]).rename(columns={'Bus': 'bus', 'Trip ID': 'trip_id'})\n",
    "schedule4 = pd.read_csv(schedule_paths[3]).rename(columns={'Bus': 'bus', 'Trip ID': 'trip_id'})\n",
    "schedule5 = pd.read_csv(schedule_paths[4]).rename(columns={'Bus': 'bus', 'Trip ID': 'trip_id'})\n",
    "schedule6 = pd.read_csv(schedule_paths[5]).rename(columns={'Bus': 'bus', 'Trip ID': 'trip_id'})\n",
    "schedule7 = pd.read_csv(schedule_paths[6]).rename(columns={'Bus': 'bus', 'Trip ID': 'trip_id'})\n",
    "schedule8 = pd.read_csv(schedule_paths[7]).rename(columns={'Bus': 'bus', 'Trip ID': 'trip_id'})\n",
    "schedule9 = pd.read_csv(schedule_paths[8]).rename(columns={'Bus': 'bus', 'Trip ID': 'trip_id'})"
   ]
  },
  {
   "cell_type": "code",
   "execution_count": 8,
   "metadata": {},
   "outputs": [],
   "source": [
    "schedules = [schedule1, schedule2, schedule3, schedule4, schedule5, schedule6, schedule7, schedule8, schedule9]"
   ]
  },
  {
   "cell_type": "code",
   "execution_count": 9,
   "metadata": {},
   "outputs": [
    {
     "name": "stdout",
     "output_type": "stream",
     "text": [
      "   Unnamed: 0  route_id service_id  trip_id  trip_headsign  trip_short_name  \\\n",
      "0           0         0    weekday        0            NaN              NaN   \n",
      "1           1         0    weekday        1            NaN              NaN   \n",
      "2           2         0    weekday       10            NaN              NaN   \n",
      "3           3         0    weekday      100            NaN              NaN   \n",
      "4           4         2    weekday     1000            NaN              NaN   \n",
      "\n",
      "   direction_id  block_id  shape_id  wheelchair_accessible  bikes_allowed  \\\n",
      "0           NaN       NaN  shp_1_30                      0              0   \n",
      "1           NaN       NaN  shp_1_30                      0              0   \n",
      "2           NaN       NaN  shp_1_30                      0              0   \n",
      "3           NaN       NaN  shp_1_30                      0              0   \n",
      "4           NaN       NaN  shp_1_13                      0              0   \n",
      "\n",
      "  start_time_y end_time_y  start_stop_y  end_stop_y  \n",
      "0     05:28:08   06:18:38            21           1  \n",
      "1     05:35:18   06:25:48            21           1  \n",
      "2     06:39:48   07:30:18            21           1  \n",
      "3     16:48:04   17:38:34            21           1  \n",
      "4     18:26:21   20:00:41            71          36  \n",
      "   stop_id  stop_code       stop_name  stop_desc   stop_lat   stop_lon\n",
      "0        1        NaN  Dilshad Garden        NaN  28.675991  77.321495\n",
      "1        2        NaN         Jhilmil        NaN  28.675648  77.312393\n",
      "2        3        NaN  Mansrover park        NaN  28.675352  77.301178\n",
      "3        4        NaN        Shahdara        NaN  28.673531  77.287270\n",
      "4        5        NaN         Welcome        NaN  28.671986  77.277931\n",
      "   trip_id arrival_time departure_time  stop_id  stop_sequence  stop_headsign  \\\n",
      "0        0     05:28:08       05:28:28       21              0            NaN   \n",
      "1        0     05:30:58       05:31:18       20              1            NaN   \n",
      "2        0     05:33:28       05:33:48       19              2            NaN   \n",
      "3        0     05:35:33       05:35:53       18              3            NaN   \n",
      "4        0     05:37:53       05:38:13       17              4            NaN   \n",
      "\n",
      "   pickup_type  drop_off_type  shape_dist_traveled  timepoint  \\\n",
      "0            0              0                0.000          1   \n",
      "1            0              0             1202.405          1   \n",
      "2            0              0             2480.750          1   \n",
      "3            0              0             3314.936          1   \n",
      "4            0              0             4300.216          1   \n",
      "\n",
      "   continuous_pickup  continuous_drop_off  \n",
      "0                NaN                  NaN  \n",
      "1                NaN                  NaN  \n",
      "2                NaN                  NaN  \n",
      "3                NaN                  NaN  \n",
      "4                NaN                  NaN  \n"
     ]
    }
   ],
   "source": [
    "trips = pd.read_csv('formatted_DMRC_trips.csv')\n",
    "stops = pd.read_csv('DMRC_Data/stops.txt')\n",
    "times = pd.read_csv('DMRC_Data/stop_times.txt')\n",
    "\n",
    "print(trips.head())\n",
    "print(stops.head())\n",
    "print(times.head())"
   ]
  },
  {
   "cell_type": "code",
   "execution_count": 10,
   "metadata": {},
   "outputs": [],
   "source": [
    "# Clean and merge stops and times\n",
    "stops_cleaned = stops.drop(columns=['stop_code', 'stop_desc'])\n",
    "times_cleaned = times.drop(columns=['stop_headsign', 'pickup_type', 'drop_off_type', 'timepoint', 'continuous_pickup', 'continuous_drop_off'])\n",
    "stops_times_merge = pd.merge(times_cleaned, stops_cleaned)"
   ]
  },
  {
   "cell_type": "code",
   "execution_count": 11,
   "metadata": {},
   "outputs": [],
   "source": [
    "def process_bus_schedule(schedule, trips, stops_times_merge):\n",
    "    \n",
    "    # Merge schedule with trips\n",
    "    schedule_trips_merge = pd.merge(schedule, trips, on='trip_id').drop(\n",
    "        columns=['service_id', 'trip_headsign', 'trip_short_name', 'direction_id',\n",
    "                    'block_id', 'wheelchair_accessible', 'bikes_allowed']\n",
    "    )\n",
    "\n",
    "    # Calculate trip distances\n",
    "    trip_distances = stops_times_merge.groupby('trip_id')['shape_dist_traveled'].last() / 1000\n",
    "    schedule_combined = pd.merge(schedule_trips_merge, trip_distances, on='trip_id')\n",
    "\n",
    "    # Prepare bus statistics\n",
    "    bus_statistics = pd.DataFrame(schedule_combined.groupby('bus')['shape_dist_traveled'].agg('sum'))\n",
    "    bus_statistics['trip_count'] = schedule_combined.groupby('bus').size()\n",
    "\n",
    "    # Adjust time function\n",
    "    def adjust_time_to_next_day(time_str):\n",
    "        try:\n",
    "            time_parts = time_str.split(':')\n",
    "            hour = int(time_parts[0])\n",
    "            if hour >= 24:\n",
    "                adjusted_hour = hour - 24\n",
    "                adjusted_time_str = f\"{adjusted_hour:02}:{time_parts[1]}:{time_parts[2]}\"\n",
    "                return pd.to_datetime(adjusted_time_str) + pd.Timedelta(days=1)\n",
    "            else:\n",
    "                return pd.to_datetime(time_str)\n",
    "        except Exception:\n",
    "            return None\n",
    "\n",
    "    # Calculate travel time\n",
    "    schedule_combined_sorted = schedule_combined.sort_values(by=['bus', 'start_time_y'])\n",
    "    bus_statistics['travel_time'] = (\n",
    "        pd.to_datetime(schedule_combined_sorted.groupby('bus')['end_time_y'].last().apply(adjust_time_to_next_day)) -\n",
    "        pd.to_datetime(schedule_combined_sorted.groupby('bus')['start_time_y'].first().apply(adjust_time_to_next_day))\n",
    "    ).dt.total_seconds() / 3600\n",
    "\n",
    "    # Additional statistics\n",
    "    mileage = 3.7\n",
    "    petrol_price = 94.77\n",
    "    co2_emission_factor = 2.31\n",
    "    bus_statistics['petrol_charges'] = bus_statistics['shape_dist_traveled'] / mileage * petrol_price\n",
    "    bus_statistics['carbon_emissions'] = bus_statistics['shape_dist_traveled'] * mileage * co2_emission_factor\n",
    "\n",
    "    # Fix time format\n",
    "    def fix_time_format(time_str):\n",
    "        try:\n",
    "            hours, minutes, seconds = map(int, time_str.split(\":\"))\n",
    "            if hours >= 24:\n",
    "                hours -= 24\n",
    "            return f\"{hours:02d}:{minutes:02d}:{seconds:02d}\"\n",
    "        except ValueError:\n",
    "            return time_str\n",
    "\n",
    "    # Calculate total time and distances\n",
    "    schedule_combined['start_time_y'] = schedule_combined['start_time_y'].apply(fix_time_format)\n",
    "    schedule_combined['end_time_y'] = schedule_combined['end_time_y'].apply(fix_time_format)\n",
    "\n",
    "    schedule_combined = schedule_combined.merge(stops.drop(columns=['stop_code', 'stop_desc']), left_on='start_stop_y', right_on='stop_id')\n",
    "    schedule_combined = schedule_combined.rename(\n",
    "        columns={\n",
    "            'stop_name': 'start_stop_name',\n",
    "            'stop_lat': 'start_stop_lat',\n",
    "            'stop_lon': 'start_stop_lon'\n",
    "        }\n",
    "    ).drop(columns='stop_id')\n",
    "    schedule_combined = schedule_combined.merge(stops.drop(columns=['stop_code','stop_desc']),left_on='end_stop_y',right_on='stop_id')\n",
    "    schedule_combined = schedule_combined.rename(\n",
    "        columns={\n",
    "            'stop_name': 'end_stop_name',\n",
    "            'stop_lat': 'end_stop_lat',\n",
    "            'stop_lon': 'end_stop_lon',\n",
    "            'shape_dist_traveled': 'total_distance',\n",
    "            'start_time_y' :'start_time',\n",
    "            'end_time_y' :'end_time',\n",
    "            'start_stop_y' :'start_stop',\n",
    "            'end_stop_y' :'end_stop',\n",
    "        }\n",
    "    ).drop(columns='stop_id')\n",
    "    new_order = ['bus', 'trip_id', 'route_id', 'shape_id', 'start_time', \n",
    "        'start_stop', 'start_stop_name',\n",
    "        'start_stop_lat', 'start_stop_lon', 'end_time','end_stop', 'end_stop_name', 'end_stop_lat',\n",
    "        'end_stop_lon', 'total_distance']\n",
    "    schedule_combined = schedule_combined[new_order]\n",
    "    # print(schedule_combined.head())\n",
    "\n",
    "    def calculate_time_gap(start_time_str, end_time_str):\n",
    "        time_format = \"%H:%M:%S\"\n",
    "        start_time = datetime.strptime(start_time_str, time_format)\n",
    "        end_time = datetime.strptime(end_time_str, time_format)\n",
    "        if end_time < start_time:\n",
    "            end_time += timedelta(days=1)\n",
    "        return end_time - start_time\n",
    "\n",
    "    schedule_combined['total_time'] = schedule_combined.apply(\n",
    "        lambda row: calculate_time_gap(row['start_time'], row['end_time']).total_seconds() / 60, axis=1\n",
    "    )\n",
    "\n",
    "    # Haversine function for distance calculation\n",
    "    def haversine(lat1, lon1, lat2, lon2):\n",
    "        R = 6371.0\n",
    "        lat1_rad = math.radians(lat1)\n",
    "        lon1_rad = math.radians(lon1)\n",
    "        lat2_rad = math.radians(lat2)\n",
    "        lon2_rad = math.radians(lon2)\n",
    "        dlat = lat2_rad - lat1_rad\n",
    "        dlon = lon2_rad - lon1_rad\n",
    "        a = math.sin(dlat / 2)**2 + math.cos(lat1_rad) * math.cos(lat2_rad) * math.sin(dlon / 2)**2\n",
    "        c = 2 * math.atan2(math.sqrt(a), math.sqrt(1 - a))\n",
    "        return R * c\n",
    "\n",
    "    # Calculate travel distance to the next stop\n",
    "    schedule_combined = schedule_combined.sort_values(by=['bus', 'start_time'])\n",
    "    schedule_combined['travel_distance_to_next'] = np.zeros(len(schedule_combined))\n",
    "    for i in range(len(schedule_combined) - 1):\n",
    "        if schedule_combined.iloc[i]['bus'] == schedule_combined.iloc[i + 1]['bus']:\n",
    "            schedule_combined.at[i, 'travel_distance_to_next'] = haversine(\n",
    "                schedule_combined.iloc[i + 1]['end_stop_lat'],\n",
    "                schedule_combined.iloc[i + 1]['end_stop_lon'],\n",
    "                schedule_combined.iloc[i]['start_stop_lat'],\n",
    "                schedule_combined.iloc[i]['start_stop_lon']\n",
    "            )\n",
    "\n",
    "    # Update statistics\n",
    "    bus_statistics['active_distance'] = schedule_combined.groupby('bus')['total_distance'].agg('sum')\n",
    "    bus_statistics['active_time'] = schedule_combined.groupby('bus')['total_time'].agg('sum')\n",
    "    bus_statistics['passive_distance'] = schedule_combined.groupby('bus')['travel_distance_to_next'].agg('sum')\n",
    "    bus_statistics['activity_ratio'] = bus_statistics['active_distance'] / bus_statistics['passive_distance']\n",
    "    \n",
    "    return schedule_combined, bus_statistics\n"
   ]
  },
  {
   "cell_type": "code",
   "execution_count": 12,
   "metadata": {},
   "outputs": [],
   "source": [
    "statistics_list = []\n",
    "# Process each schedule and collect statistics\n",
    "for i, schedule in enumerate(schedules, start=0):\n",
    "    _, stats = process_bus_schedule(schedule, trips, stops_times_merge)\n",
    "    stats['schedule_id'] = f'schedule{i}'  # Add an identifier for each schedule\n",
    "    statistics_list.append(stats)"
   ]
  },
  {
   "cell_type": "code",
   "execution_count": 13,
   "metadata": {},
   "outputs": [
    {
     "data": {
      "text/plain": [
       "np.int64(1)"
      ]
     },
     "execution_count": 13,
     "metadata": {},
     "output_type": "execute_result"
    }
   ],
   "source": [
    "statistics_list[8]['trip_count'].min()"
   ]
  },
  {
   "cell_type": "code",
   "execution_count": 14,
   "metadata": {},
   "outputs": [
    {
     "data": {
      "text/plain": [
       "np.float64(9.128547579298832)"
      ]
     },
     "execution_count": 14,
     "metadata": {},
     "output_type": "execute_result"
    }
   ],
   "source": [
    "statistics_list[8]['trip_count'].mean()"
   ]
  },
  {
   "cell_type": "code",
   "execution_count": 15,
   "metadata": {},
   "outputs": [
    {
     "data": {
      "text/plain": [
       "np.int64(17)"
      ]
     },
     "execution_count": 15,
     "metadata": {},
     "output_type": "execute_result"
    }
   ],
   "source": [
    "statistics_list[8]['trip_count'].max()"
   ]
  },
  {
   "cell_type": "code",
   "execution_count": 16,
   "metadata": {},
   "outputs": [
    {
     "data": {
      "text/html": [
       "<div>\n",
       "<style scoped>\n",
       "    .dataframe tbody tr th:only-of-type {\n",
       "        vertical-align: middle;\n",
       "    }\n",
       "\n",
       "    .dataframe tbody tr th {\n",
       "        vertical-align: top;\n",
       "    }\n",
       "\n",
       "    .dataframe thead th {\n",
       "        text-align: right;\n",
       "    }\n",
       "</style>\n",
       "<table border=\"1\" class=\"dataframe\">\n",
       "  <thead>\n",
       "    <tr style=\"text-align: right;\">\n",
       "      <th></th>\n",
       "      <th>Unnamed: 0</th>\n",
       "      <th>route_id</th>\n",
       "      <th>service_id</th>\n",
       "      <th>trip_id</th>\n",
       "      <th>trip_headsign</th>\n",
       "      <th>trip_short_name</th>\n",
       "      <th>direction_id</th>\n",
       "      <th>block_id</th>\n",
       "      <th>shape_id</th>\n",
       "      <th>wheelchair_accessible</th>\n",
       "      <th>bikes_allowed</th>\n",
       "      <th>start_time_y</th>\n",
       "      <th>end_time_y</th>\n",
       "      <th>start_stop_y</th>\n",
       "      <th>end_stop_y</th>\n",
       "    </tr>\n",
       "  </thead>\n",
       "  <tbody>\n",
       "    <tr>\n",
       "      <th>0</th>\n",
       "      <td>0</td>\n",
       "      <td>0</td>\n",
       "      <td>weekday</td>\n",
       "      <td>0</td>\n",
       "      <td>NaN</td>\n",
       "      <td>NaN</td>\n",
       "      <td>NaN</td>\n",
       "      <td>NaN</td>\n",
       "      <td>shp_1_30</td>\n",
       "      <td>0</td>\n",
       "      <td>0</td>\n",
       "      <td>05:28:08</td>\n",
       "      <td>06:18:38</td>\n",
       "      <td>21</td>\n",
       "      <td>1</td>\n",
       "    </tr>\n",
       "    <tr>\n",
       "      <th>1</th>\n",
       "      <td>1</td>\n",
       "      <td>0</td>\n",
       "      <td>weekday</td>\n",
       "      <td>1</td>\n",
       "      <td>NaN</td>\n",
       "      <td>NaN</td>\n",
       "      <td>NaN</td>\n",
       "      <td>NaN</td>\n",
       "      <td>shp_1_30</td>\n",
       "      <td>0</td>\n",
       "      <td>0</td>\n",
       "      <td>05:35:18</td>\n",
       "      <td>06:25:48</td>\n",
       "      <td>21</td>\n",
       "      <td>1</td>\n",
       "    </tr>\n",
       "    <tr>\n",
       "      <th>2</th>\n",
       "      <td>2</td>\n",
       "      <td>0</td>\n",
       "      <td>weekday</td>\n",
       "      <td>10</td>\n",
       "      <td>NaN</td>\n",
       "      <td>NaN</td>\n",
       "      <td>NaN</td>\n",
       "      <td>NaN</td>\n",
       "      <td>shp_1_30</td>\n",
       "      <td>0</td>\n",
       "      <td>0</td>\n",
       "      <td>06:39:48</td>\n",
       "      <td>07:30:18</td>\n",
       "      <td>21</td>\n",
       "      <td>1</td>\n",
       "    </tr>\n",
       "    <tr>\n",
       "      <th>3</th>\n",
       "      <td>3</td>\n",
       "      <td>0</td>\n",
       "      <td>weekday</td>\n",
       "      <td>100</td>\n",
       "      <td>NaN</td>\n",
       "      <td>NaN</td>\n",
       "      <td>NaN</td>\n",
       "      <td>NaN</td>\n",
       "      <td>shp_1_30</td>\n",
       "      <td>0</td>\n",
       "      <td>0</td>\n",
       "      <td>16:48:04</td>\n",
       "      <td>17:38:34</td>\n",
       "      <td>21</td>\n",
       "      <td>1</td>\n",
       "    </tr>\n",
       "    <tr>\n",
       "      <th>4</th>\n",
       "      <td>4</td>\n",
       "      <td>2</td>\n",
       "      <td>weekday</td>\n",
       "      <td>1000</td>\n",
       "      <td>NaN</td>\n",
       "      <td>NaN</td>\n",
       "      <td>NaN</td>\n",
       "      <td>NaN</td>\n",
       "      <td>shp_1_13</td>\n",
       "      <td>0</td>\n",
       "      <td>0</td>\n",
       "      <td>18:26:21</td>\n",
       "      <td>20:00:41</td>\n",
       "      <td>71</td>\n",
       "      <td>36</td>\n",
       "    </tr>\n",
       "  </tbody>\n",
       "</table>\n",
       "</div>"
      ],
      "text/plain": [
       "   Unnamed: 0  route_id service_id  trip_id  trip_headsign  trip_short_name  \\\n",
       "0           0         0    weekday        0            NaN              NaN   \n",
       "1           1         0    weekday        1            NaN              NaN   \n",
       "2           2         0    weekday       10            NaN              NaN   \n",
       "3           3         0    weekday      100            NaN              NaN   \n",
       "4           4         2    weekday     1000            NaN              NaN   \n",
       "\n",
       "   direction_id  block_id  shape_id  wheelchair_accessible  bikes_allowed  \\\n",
       "0           NaN       NaN  shp_1_30                      0              0   \n",
       "1           NaN       NaN  shp_1_30                      0              0   \n",
       "2           NaN       NaN  shp_1_30                      0              0   \n",
       "3           NaN       NaN  shp_1_30                      0              0   \n",
       "4           NaN       NaN  shp_1_13                      0              0   \n",
       "\n",
       "  start_time_y end_time_y  start_stop_y  end_stop_y  \n",
       "0     05:28:08   06:18:38            21           1  \n",
       "1     05:35:18   06:25:48            21           1  \n",
       "2     06:39:48   07:30:18            21           1  \n",
       "3     16:48:04   17:38:34            21           1  \n",
       "4     18:26:21   20:00:41            71          36  "
      ]
     },
     "execution_count": 16,
     "metadata": {},
     "output_type": "execute_result"
    }
   ],
   "source": [
    "trips.head()"
   ]
  },
  {
   "cell_type": "code",
   "execution_count": 21,
   "metadata": {},
   "outputs": [
    {
     "data": {
      "text/plain": [
       "array([ 0,  2, 19, 20, 21, 22, 23, 24, 25, 26, 27,  3, 28, 29, 30, 31, 32,\n",
       "       33, 34, 35,  4,  5,  6,  7,  1,  8,  9, 10, 11, 12, 13, 14, 15, 16,\n",
       "       17, 18])"
      ]
     },
     "execution_count": 21,
     "metadata": {},
     "output_type": "execute_result"
    }
   ],
   "source": [
    "trips['route_id'].unique()"
   ]
  },
  {
   "cell_type": "code",
   "execution_count": 24,
   "metadata": {},
   "outputs": [
    {
     "data": {
      "text/plain": [
       "5438"
      ]
     },
     "execution_count": 24,
     "metadata": {},
     "output_type": "execute_result"
    }
   ],
   "source": [
    "len(trips)"
   ]
  },
  {
   "cell_type": "code",
   "execution_count": 23,
   "metadata": {},
   "outputs": [
    {
     "data": {
      "text/plain": [
       "5438"
      ]
     },
     "execution_count": 23,
     "metadata": {},
     "output_type": "execute_result"
    }
   ],
   "source": [
    "len(times['trip_id'].unique())"
   ]
  }
 ],
 "metadata": {
  "kernelspec": {
   "display_name": "Python 3",
   "language": "python",
   "name": "python3"
  },
  "language_info": {
   "codemirror_mode": {
    "name": "ipython",
    "version": 3
   },
   "file_extension": ".py",
   "mimetype": "text/x-python",
   "name": "python",
   "nbconvert_exporter": "python",
   "pygments_lexer": "ipython3",
   "version": "3.12.2"
  }
 },
 "nbformat": 4,
 "nbformat_minor": 2
}
